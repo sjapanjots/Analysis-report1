{
  "nbformat": 4,
  "nbformat_minor": 0,
  "metadata": {
    "colab": {
      "provenance": [],
      "authorship_tag": "ABX9TyMAwce4X3EWpBLCtQPbihpg",
      "include_colab_link": true
    },
    "kernelspec": {
      "name": "python3",
      "display_name": "Python 3"
    },
    "language_info": {
      "name": "python"
    }
  },
  "cells": [
    {
      "cell_type": "markdown",
      "metadata": {
        "id": "view-in-github",
        "colab_type": "text"
      },
      "source": [
        "<a href=\"https://colab.research.google.com/github/sjapanjots/Analysis-report1/blob/main/Practice_test.ipynb\" target=\"_parent\"><img src=\"https://colab.research.google.com/assets/colab-badge.svg\" alt=\"Open In Colab\"/></a>"
      ]
    },
    {
      "cell_type": "code",
      "execution_count": 2,
      "metadata": {
        "colab": {
          "base_uri": "https://localhost:8080/"
        },
        "id": "_531HWMpT47o",
        "outputId": "fc1e109d-2e2c-402e-9a98-fec5ef66eb8f"
      },
      "outputs": [
        {
          "output_type": "stream",
          "name": "stdout",
          "text": [
            "enter a number 123\n",
            "total even digits  1\n",
            "total odd digits  2\n"
          ]
        }
      ],
      "source": [
        "n= int(input(\"enter a number \"))\n",
        "count=count1 = 0\n",
        "while 0<n:\n",
        "    d = n%10\n",
        "    if d%2==0:\n",
        "        count = count+1\n",
        "    if d%2!=0:\n",
        "        count1 = count1+1\n",
        "    n = n//10 \n",
        "print(\"total even digits \" , count)\n",
        "print(\"total odd digits \" , count1)"
      ]
    },
    {
      "cell_type": "markdown",
      "source": [
        "#3WAP to check a number is curios or not (145)\n"
      ],
      "metadata": {
        "id": "BNNWhP00UJz2"
      }
    },
    {
      "cell_type": "code",
      "source": [
        "n = int(input(\"enter a number \"))\n",
        "a = n\n",
        "sum = 0\n",
        "while n>0:\n",
        "  d = n%10\n",
        "  fact = 1\n",
        "  while d>1:\n",
        "    fact = fact*d\n",
        "    d = d-1\n",
        "  sum = sum + fact\n",
        "  n = n//10\n",
        "if sum == a:\n",
        "  print(\"number is curious\")\n",
        "else:\n",
        "  print(\"not a curious number\")"
      ],
      "metadata": {
        "colab": {
          "base_uri": "https://localhost:8080/"
        },
        "id": "hwhF3WNcUUia",
        "outputId": "88f5015d-2aa2-4aa3-ea0b-1a08df511e96"
      },
      "execution_count": 5,
      "outputs": [
        {
          "output_type": "stream",
          "name": "stdout",
          "text": [
            "enter a number 145\n",
            "number is curious\n"
          ]
        }
      ]
    },
    {
      "cell_type": "code",
      "source": [],
      "metadata": {
        "id": "eze-OWwBVhIO"
      },
      "execution_count": null,
      "outputs": []
    },
    {
      "cell_type": "markdown",
      "source": [
        "WAP to print (1,1) (4,8) (9,27) (16,64)"
      ],
      "metadata": {
        "id": "-iD-rh7gWxA_"
      }
    },
    {
      "cell_type": "code",
      "source": [
        "i = 1\n",
        "while i<=4:\n",
        "  print(\"(\",i**2,\",\",i**3,\")\")\n",
        "  i = i+1"
      ],
      "metadata": {
        "colab": {
          "base_uri": "https://localhost:8080/"
        },
        "id": "YFqLYntjXEPU",
        "outputId": "77de4da1-92c0-4097-d686-7b1d811f4920"
      },
      "execution_count": 9,
      "outputs": [
        {
          "output_type": "stream",
          "name": "stdout",
          "text": [
            "( 1 , 1 )\n",
            "( 4 , 8 )\n",
            "( 9 , 27 )\n",
            "( 16 , 64 )\n"
          ]
        }
      ]
    },
    {
      "cell_type": "markdown",
      "source": [
        "WAP to find avg of a range"
      ],
      "metadata": {
        "id": "hbSxrYvZcFuQ"
      }
    },
    {
      "cell_type": "code",
      "source": [
        "a = int(input(\"enter starting of range\"))\n",
        "b = int(input(\"enter ending of range\"))\n",
        "sum = 0\n",
        "count = 0\n",
        "while a<=b:\n",
        "  sum = sum+a\n",
        "  count = count+1\n",
        "  a = a+1\n",
        "print(\"avg of range is \" , sum/count)\n"
      ],
      "metadata": {
        "colab": {
          "base_uri": "https://localhost:8080/"
        },
        "id": "57FPEgk2cL0k",
        "outputId": "90179152-45cc-4123-cb5e-2d92fec8db7d"
      },
      "execution_count": 11,
      "outputs": [
        {
          "output_type": "stream",
          "name": "stdout",
          "text": [
            "enter starting of range1\n",
            "enter ending of range5\n",
            "avg of range is  3.0\n"
          ]
        }
      ]
    },
    {
      "cell_type": "code",
      "source": [
        "a = int(input(\"enter starting of range\"))\n",
        "b = int(input(\"enter ending of range\"))\n",
        "sum=0\n",
        "while a<=b:\n",
        "  d = a%10\n",
        "  sum = sum+d\n",
        "  a = a+1\n",
        "print(\"sum of last digit is\", sum)"
      ],
      "metadata": {
        "colab": {
          "base_uri": "https://localhost:8080/"
        },
        "id": "LaAIWEnQc5Q-",
        "outputId": "ac822bca-0184-4bf0-f755-4e8607620b7e"
      },
      "execution_count": 14,
      "outputs": [
        {
          "output_type": "stream",
          "name": "stdout",
          "text": [
            "enter starting of range11\n",
            "enter ending of range15\n",
            "sum of last digit is 15\n"
          ]
        }
      ]
    },
    {
      "cell_type": "markdown",
      "source": [
        "WAP to display sum of all no which is divisible by 2, divisible by 3 and divisible by both separately from a range "
      ],
      "metadata": {
        "id": "MFsyqJTyfF_9"
      }
    },
    {
      "cell_type": "code",
      "source": [
        "a = int(input(\"enter starting of range\"))\n",
        "b = int(input(\"enter ending of range\"))\n",
        "sum=sum1=sum3 = 0\n",
        "while a<=b:\n",
        "  if a%2==0:\n",
        "    sum=sum+a\n",
        "  if a%3==0:\n",
        "    sum1=sum1+a\n",
        "  if a%6==0:\n",
        "    sum3=sum3+a\n",
        "  a=a+1\n",
        "print(sum)\n",
        "print(sum1,sum3)"
      ],
      "metadata": {
        "colab": {
          "base_uri": "https://localhost:8080/"
        },
        "id": "4YM32A1igRXi",
        "outputId": "d89969ef-5965-4cce-ea57-c645d999236a"
      },
      "execution_count": 15,
      "outputs": [
        {
          "output_type": "stream",
          "name": "stdout",
          "text": [
            "enter starting of range1\n",
            "enter ending of range10\n",
            "30\n",
            "18 6\n"
          ]
        }
      ]
    },
    {
      "cell_type": "code",
      "source": [],
      "metadata": {
        "id": "VXPBdohahZAl"
      },
      "execution_count": null,
      "outputs": []
    }
  ]
}